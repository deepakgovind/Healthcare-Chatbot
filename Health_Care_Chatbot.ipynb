{
  "nbformat": 4,
  "nbformat_minor": 0,
  "metadata": {
    "colab": {
      "name": "Health Care Chatbot.ipynb",
      "provenance": []
    },
    "kernelspec": {
      "name": "python3",
      "display_name": "Python 3"
    }
  },
  "cells": [
    {
      "cell_type": "code",
      "metadata": {
        "id": "ybdrO9_Ao3Tt"
      },
      "source": [
        "import numpy as np\n",
        "import pandas as pd\n",
        "from sklearn import preprocessing\n",
        "from sklearn.tree import DecisionTreeClassifier,_tree\n",
        "from sklearn.model_selection import train_test_split\n",
        "from sklearn import model_selection\n",
        "from sklearn.tree import export_graphviz\n",
        "import nltk\n",
        "import spacy\n",
        "from spacy import displacy\n",
        "import warnings\n",
        "warnings.filterwarnings(\"ignore\", category=DeprecationWarning)"
      ],
      "execution_count": null,
      "outputs": []
    },
    {
      "cell_type": "code",
      "metadata": {
        "id": "FzjPu9C9o5GN",
        "outputId": "32fa56b2-78c3-4668-84fe-52740ddf5bea",
        "colab": {
          "base_uri": "https://localhost:8080/"
        }
      },
      "source": [
        "training = pd.read_csv('Training.csv')\n",
        "testing  = pd.read_csv('Testing.csv')\n",
        "cols     = training.columns\n",
        "cols     = cols[:-1]\n",
        "x        = training[cols]\n",
        "y        = training['prognosis']\n",
        "y1       = y\n",
        "\n",
        "reduced_data = training.groupby(training['prognosis']).max()\n",
        "\n",
        "le = preprocessing.LabelEncoder()\n",
        "le.fit(y)\n",
        "y = le.transform(y)\n",
        "\n",
        "\n",
        "x_train, x_test, y_train, y_test = train_test_split(x, y, test_size=0.30, random_state=42)\n",
        "testx    = testing[cols]\n",
        "testy    = testing['prognosis']  \n",
        "\n",
        "\n",
        "\n",
        "clf1  = DecisionTreeClassifier()\n",
        "clf = clf1.fit(x_train,y_train)\n",
        "\n",
        "importances = clf.feature_importances_\n",
        "indices = np.argsort(importances)[::-1]\n",
        "features = cols\n",
        "\n",
        "print(\"Hey there! reply Yes or No for the following symptoms\") \n",
        "def print_disease(node):\n",
        "    node = node[0]\n",
        "    val  = node.nonzero() \n",
        "    disease = le.inverse_transform(val[0])\n",
        "    return disease\n",
        "def tree_to_code(tree, feature_names):\n",
        "    tree_ = tree.tree_\n",
        "    feature_name = [\n",
        "        feature_names[i] if i != _tree.TREE_UNDEFINED else \"undefined!\"\n",
        "        for i in tree_.feature\n",
        "    ]\n",
        "    symptoms_present = []\n",
        "    def recurse(node, depth):\n",
        "        indent = \"  \" * depth\n",
        "        if tree_.feature[node] != _tree.TREE_UNDEFINED:\n",
        "            name = feature_name[node]\n",
        "            threshold = tree_.threshold[node]\n",
        "            print(name + \" ?\")\n",
        "            ans = input()\n",
        "            ans = ans.lower()\n",
        "            if ans == 'yes':\n",
        "                val = 1\n",
        "            else:\n",
        "                val = 0\n",
        "            if  val <= threshold:\n",
        "                recurse(tree_.children_left[node], depth + 1)\n",
        "            else:\n",
        "                symptoms_present.append(name)\n",
        "                recurse(tree_.children_right[node], depth + 1)\n",
        "        else:\n",
        "            present_disease = print_disease(tree_.value[node])\n",
        "            print( \"You may have \" +  present_disease )\n",
        "            red_cols = reduced_data.columns \n",
        "            symptoms_given = red_cols[reduced_data.loc[present_disease].values[0].nonzero()]\n",
        "            print(\"symptoms present  \" + str(list(symptoms_present)))\n",
        "            print(\"symptoms given \"  +  str(list(symptoms_given)) )  \n",
        "            confidence_level = (1.0*len(symptoms_present))/len(symptoms_given)\n",
        "            print(\"confidence level : \" + str(confidence_level))\n",
        "\n",
        "    recurse(0, 1)\n",
        "\n",
        "tree_to_code(clf,cols)"
      ],
      "execution_count": null,
      "outputs": [
        {
          "output_type": "stream",
          "text": [
            "Hey there! Please reply Yes or No for the following symptoms\n",
            "fatigue ?\n",
            "no\n",
            "chest_pain ?\n",
            "no\n",
            "diarrhoea ?\n",
            "no\n",
            "headache ?\n",
            "yes\n",
            "['You may have Hypertension ']\n",
            "symptoms present  ['headache']\n",
            "symptoms given ['headache', 'chest_pain', 'frequent_urination']\n",
            "confidence level is 0.3333333333333333\n"
          ],
          "name": "stdout"
        }
      ]
    },
    {
      "cell_type": "code",
      "metadata": {
        "id": "yHma-X2bo654"
      },
      "source": [
        ""
      ],
      "execution_count": null,
      "outputs": []
    }
  ]
}